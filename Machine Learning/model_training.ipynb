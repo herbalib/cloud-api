{
  "nbformat": 4,
  "nbformat_minor": 0,
  "metadata": {
    "colab": {
      "name": "model_training.ipynb",
      "provenance": [],
      "collapsed_sections": []
    },
    "kernelspec": {
      "name": "python3",
      "display_name": "Python 3"
    },
    "language_info": {
      "name": "python"
    }
  },
  "cells": [
    {
      "cell_type": "markdown",
      "source": [
        "# 1. Data Preprocessing"
      ],
      "metadata": {
        "id": "DaYxKWIS79Oi"
      }
    },
    {
      "cell_type": "code",
      "source": [
        "from google.colab import drive\n",
        "drive.mount('/content/drive')"
      ],
      "metadata": {
        "colab": {
          "base_uri": "https://localhost:8080/"
        },
        "id": "V0YKX1dc9mvv",
        "outputId": "29aa861c-8bbd-4eab-9b49-855d806e606f"
      },
      "execution_count": 1,
      "outputs": [
        {
          "output_type": "stream",
          "name": "stdout",
          "text": [
            "Mounted at /content/drive\n"
          ]
        }
      ]
    },
    {
      "cell_type": "code",
      "execution_count": 3,
      "metadata": {
        "colab": {
          "base_uri": "https://localhost:8080/"
        },
        "id": "c6nXXbn86xje",
        "outputId": "786d96b3-205d-4b84-e3d6-a3b902cb0703"
      },
      "outputs": [
        {
          "output_type": "stream",
          "name": "stdout",
          "text": [
            "Total jenis tanaman herbal: 18\n"
          ]
        }
      ],
      "source": [
        "import os\n",
        "\n",
        "# Global Variables\n",
        "RAW_DATASET_PATH = \"/content/drive/MyDrive/Product_Based_Capstone/Team_ML/Raw_Dataset\"\n",
        "CLEAN_DATASET_PATH = \"/content/drive/MyDrive/Product_Based_Capstone/Team_ML/Clean_Dataset\"\n",
        "TRAIN_PATH = os.path.join(CLEAN_DATASET_PATH, 'train')\n",
        "DEV_PATH = os.path.join(CLEAN_DATASET_PATH, 'dev')\n",
        "# TEST_PATH = os.path.join(DATASET_SPLIT_PATH, 'test')\n",
        "PLANTS_LIST = os.listdir(RAW_DATASET_PATH)\n",
        "NUM_OF_PLANTS = len(PLANTS_LIST)\n",
        "\n",
        "print('Total jenis tanaman herbal:', NUM_OF_PLANTS)"
      ]
    },
    {
      "cell_type": "code",
      "source": [
        "from tensorflow.keras.utils import image_dataset_from_directory as IMFD\n",
        "\n",
        "LABEL_MODE = 'categorical' # Use categorical_crossentropy loss function\n",
        "COLOR_MODE = 'rgb'\n",
        "BATCH_SIZE = 16\n",
        "IMAGE_SIZE = (224, 224)\n",
        "SEED = 314\n",
        "\n",
        "training_data = IMFD(\n",
        "                      TRAIN_PATH,\n",
        "                      label_mode=LABEL_MODE,\n",
        "                      color_mode=COLOR_MODE,\n",
        "                      batch_size=BATCH_SIZE,\n",
        "                      image_size=IMAGE_SIZE,\n",
        "                      seed=SEED,\n",
        "                    )\n",
        "\n",
        "validation_data = IMFD(\n",
        "                      DEV_PATH,\n",
        "                      label_mode=LABEL_MODE,\n",
        "                      color_mode=COLOR_MODE,\n",
        "                      batch_size=BATCH_SIZE,\n",
        "                      image_size=IMAGE_SIZE,\n",
        "                      seed=SEED,\n",
        "                    )"
      ],
      "metadata": {
        "id": "cHHi41P45SIm",
        "colab": {
          "base_uri": "https://localhost:8080/"
        },
        "outputId": "33b9f2e8-de8d-4bc8-fa77-c27513d38dc3"
      },
      "execution_count": 5,
      "outputs": [
        {
          "output_type": "stream",
          "name": "stdout",
          "text": [
            "Found 1679 files belonging to 18 classes.\n",
            "Found 418 files belonging to 18 classes.\n"
          ]
        }
      ]
    },
    {
      "cell_type": "markdown",
      "source": [
        "# B. Building the Model"
      ],
      "metadata": {
        "id": "bpHVCNl_KRhn"
      }
    },
    {
      "cell_type": "code",
      "source": [
        "# coba EfficientNet_v2 transfer learning"
      ],
      "metadata": {
        "id": "9YU65xqoKlb3"
      },
      "execution_count": null,
      "outputs": []
    }
  ]
}