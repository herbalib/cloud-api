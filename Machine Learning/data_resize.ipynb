{
  "nbformat": 4,
  "nbformat_minor": 0,
  "metadata": {
    "colab": {
      "name": "data_preparation.ipynb",
      "provenance": [],
      "collapsed_sections": []
    },
    "kernelspec": {
      "name": "python3",
      "display_name": "Python 3"
    },
    "language_info": {
      "name": "python"
    }
  },
  "cells": [
    {
      "cell_type": "markdown",
      "source": [
        "# Data Preparation Task"
      ],
      "metadata": {
        "id": "qCWYynPJ2-Fz"
      }
    },
    {
      "cell_type": "code",
      "source": [
        "from google.colab import drive"
      ],
      "metadata": {
        "id": "wMSnAiLa5qM2"
      },
      "execution_count": 21,
      "outputs": []
    },
    {
      "cell_type": "code",
      "execution_count": 22,
      "metadata": {
        "id": "arH_O3mo2oCh"
      },
      "outputs": [],
      "source": [
        "# Convert to JPEG\n",
        "# Resize to 224x224\n",
        "import os\n",
        "\n",
        "IMAGE_SIZE = 224\n",
        "DATASET_SPLIT_PATH = '/content/drive/MyDrive/Product Based Capstone/Team ML/Dataset (Split)'\n",
        "DATASET_RESIZED_PATH = '/content/drive/MyDrive/Product Based Capstone/Team ML/Dataset (Resized)'\n",
        "TRAIN_SPLIT_PATH = os.path.join(DATASET_SPLIT_PATH, 'train')\n",
        "DEV_SPLIT_PATH = os.path.join(DATASET_SPLIT_PATH, 'dev')\n",
        "TRAIN_RESIZED_PATH = os.path.join(DATASET_RESIZED_PATH, 'train')\n",
        "DEV_RESIZED_PATH = os.path.join(DATASET_RESIZED_PATH, 'dev')"
      ]
    },
    {
      "cell_type": "code",
      "source": [
        "from shutil import rmtree\n",
        "from PIL import Image\n",
        "import subprocess\n",
        "import shutil\n",
        "\n",
        "# Empty and Create Fresh Resized Directory\n",
        "def CopyAndResizeData(split_path, resized_path, image_size):\n",
        "\n",
        "  for plant_dir in os.listdir(split_path):\n",
        "    split_dir = os.path.join(split_path, plant_dir)\n",
        "    os.makedirs(os.path.join(resized_path, plant_dir), exist_ok=True)\n",
        "\n",
        "    for plant_image in os.listdir(split_dir):\n",
        "      im = Image.open(os.path.join(split_dir, plant_image)).convert('RGB')\n",
        "      new_image_name = os.path.splitext(plant_image)[0] + \".jpeg\"\n",
        "      resized_dir = os.path.join(resized_path, plant_dir, new_image_name)\n",
        "      # print(resized_dir)\n",
        "      im.resize((image_size,image_size)).save(resized_dir)\n",
        "\n",
        "CopyAndResizeData(TRAIN_SPLIT_PATH, TRAIN_RESIZED_PATH, IMAGE_SIZE)\n",
        "CopyAndResizeData(DEV_SPLIT_PATH, DEV_RESIZED_PATH, IMAGE_SIZE)"
      ],
      "metadata": {
        "id": "KMWoLQYQ4icn"
      },
      "execution_count": 23,
      "outputs": []
    },
    {
      "cell_type": "code",
      "source": [
        ""
      ],
      "metadata": {
        "id": "3JXWEbsE5lCH"
      },
      "execution_count": null,
      "outputs": []
    }
  ]
}