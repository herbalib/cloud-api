{
  "nbformat": 4,
  "nbformat_minor": 0,
  "metadata": {
    "colab": {
      "name": "Model Training Workbook.ipynb",
      "provenance": [],
      "collapsed_sections": []
    },
    "kernelspec": {
      "name": "python3",
      "display_name": "Python 3"
    },
    "language_info": {
      "name": "python"
    }
  },
  "cells": [
    {
      "cell_type": "markdown",
      "source": [
        "# A. Data Preprocessing"
      ],
      "metadata": {
        "id": "DaYxKWIS79Oi"
      }
    },
    {
      "cell_type": "markdown",
      "source": [
        "## A1. Cek Dataset Awal"
      ],
      "metadata": {
        "id": "X5-snqr4RZ3j"
      }
    },
    {
      "cell_type": "code",
      "source": [
        "from google.colab import drive\n",
        "drive.mount('/content/drive')"
      ],
      "metadata": {
        "colab": {
          "base_uri": "https://localhost:8080/"
        },
        "id": "V0YKX1dc9mvv",
        "outputId": "d697d6da-2df8-4528-96b6-9db36b6b65b7"
      },
      "execution_count": 1,
      "outputs": [
        {
          "output_type": "stream",
          "name": "stdout",
          "text": [
            "Drive already mounted at /content/drive; to attempt to forcibly remount, call drive.mount(\"/content/drive\", force_remount=True).\n"
          ]
        }
      ]
    },
    {
      "cell_type": "code",
      "execution_count": 2,
      "metadata": {
        "colab": {
          "base_uri": "https://localhost:8080/"
        },
        "id": "c6nXXbn86xje",
        "outputId": "d24a8cf1-8e87-45f1-812b-cda18a228c6d"
      },
      "outputs": [
        {
          "output_type": "stream",
          "name": "stdout",
          "text": [
            "Total jenis tanaman herbal: 18\n"
          ]
        }
      ],
      "source": [
        "import os\n",
        "\n",
        "# Global Variables\n",
        "DATASET_PATH = '/content/drive/MyDrive/Product Based Capstone/Team ML/Dataset'\n",
        "DATASET_SPLIT_PATH = '/content/drive/MyDrive/Product Based Capstone/Team ML/Dataset (Split)'\n",
        "TRAIN_PATH = os.path.join(DATASET_SPLIT_PATH, 'train')\n",
        "DEV_PATH = os.path.join(DATASET_SPLIT_PATH, 'dev')\n",
        "# TEST_PATH = os.path.join(DATASET_SPLIT_PATH, 'test')\n",
        "PLANTS_LIST = os.listdir(DATASET_PATH)\n",
        "NUM_OF_PLANTS = len(PLANTS_LIST)\n",
        "\n",
        "print('Total jenis tanaman herbal:', NUM_OF_PLANTS)"
      ]
    },
    {
      "cell_type": "code",
      "source": [
        "# List gambar per tanaman\n",
        "def ListTanaman(data_path):\n",
        "  plants_list = os.listdir(data_path)\n",
        "  index = 1\n",
        "  sum = 0\n",
        "  print('-= Banyak gambar per tanaman =-')\n",
        "  for plant in plants_list:\n",
        "    plant_path = os.path.join(data_path, plant)\n",
        "    print('{:2}. {:16} : {}'.format(index, plant, len(os.listdir(plant_path))))\n",
        "    index += 1\n",
        "    sum += len(os.listdir(plant_path))\n",
        "  print('\\nTotal gambar:', sum)\n",
        "\n",
        "ListTanaman(DATASET_PATH)"
      ],
      "metadata": {
        "colab": {
          "base_uri": "https://localhost:8080/"
        },
        "id": "Y-pF6t2_DTPP",
        "outputId": "cb027e1c-db07-4d7e-c2a2-d1e4a9bdf0cd"
      },
      "execution_count": 3,
      "outputs": [
        {
          "output_type": "stream",
          "name": "stdout",
          "text": [
            "-= Banyak gambar per tanaman =-\n",
            " 1. Sambiloto        : 115\n",
            " 2. Sembung          : 100\n",
            " 3. Meniran          : 100\n",
            " 4. Andong           : 92\n",
            " 5. Kumis Kucing     : 147\n",
            " 6. Kemangi          : 100\n",
            " 7. Pandan           : 139\n",
            " 8. Serai            : 80\n",
            " 9. Kelor            : 100\n",
            "10. Sirih            : 176\n",
            "11. Talas            : 127\n",
            "12. Bayam Duri       : 97\n",
            "13. Singkong         : 101\n",
            "14. Pepaya           : 100\n",
            "15. Binahong         : 111\n",
            "16. Jeruk Nipis      : 75\n",
            "17. Mint             : 197\n",
            "18. Cincau Hijau     : 144\n",
            "\n",
            "Total gambar: 2101\n"
          ]
        }
      ]
    },
    {
      "cell_type": "markdown",
      "source": [
        "## A2. Split Dataset (Run code kalo mau ngupdate ke dataset terbaru)"
      ],
      "metadata": {
        "id": "gCC57LXvRR-y"
      }
    },
    {
      "cell_type": "code",
      "source": [
        "# Buat directory baru Train-Dev (Train-Dev-Test nanti aja kalo dataset udah agak gede)\n",
        "from shutil import rmtree\n",
        "\n",
        "def BikinSplitDirectory(data_path, split_path, train_path, dev_path): # minus test_path parameter\n",
        "  plants_list = os.listdir(data_path)\n",
        "  \n",
        "  if os.path.exists(split_path): # Remove old directory\n",
        "    rmtree(split_path)\n",
        "\n",
        "  for plant in plants_list:\n",
        "    train_plant_path = os.path.join(train_path, plant)\n",
        "    os.makedirs(train_plant_path)\n",
        "    \n",
        "    dev_plant_path = os.path.join(dev_path, plant)\n",
        "    os.makedirs(dev_plant_path)\n",
        "\n",
        "    # test_plant_path = os.path.join(test_path, plant)\n",
        "    # os.makedirs(test_plant_path)\n",
        "  \n",
        "  print('Finished emptying old folders.')"
      ],
      "metadata": {
        "id": "lKbpvnKDLuz7"
      },
      "execution_count": 4,
      "outputs": []
    },
    {
      "cell_type": "code",
      "source": [
        "# Data Splitting Function (masih Train-Dev Split jadi masih pake SPLIT_SIZE)\n",
        "import random\n",
        "from shutil import copyfile\n",
        "\n",
        "def split_data(SOURCE, TRAINING, TESTING, SPLIT_SIZE): # nanti pake dev_size / test_size\n",
        "\n",
        "  dir_list = os.listdir(SOURCE)\n",
        "  randomized_dir_list = random.sample(dir_list, len(dir_list))\n",
        "\n",
        "  # Remove 0 size images\n",
        "  final_list = []\n",
        "  for filename in randomized_dir_list:\n",
        "    fullpath = os.path.join(SOURCE, filename)\n",
        "    if os.path.getsize(fullpath) != 0:\n",
        "      final_list.append(filename)\n",
        "    else:\n",
        "      print(\"{} is zero length, so ignoring.\".format(filename))\n",
        "\n",
        "  # Start Splitting (train-dev split)\n",
        "  index_split = round(SPLIT_SIZE * len(final_list))\n",
        "  for filename in final_list[:index_split]:\n",
        "    source = os.path.join(SOURCE, filename)\n",
        "    dest = os.path.join(TRAINING, filename)\n",
        "    copyfile(source, dest)\n",
        "\n",
        "  for filename in final_list[index_split:]:\n",
        "    source = os.path.join(SOURCE, filename)\n",
        "    dest = os.path.join(TESTING, filename)\n",
        "    copyfile(source, dest)\n",
        "  \n",
        "  print('Finished splitting data at:', SOURCE)"
      ],
      "metadata": {
        "id": "X4WuN6xtWZKG"
      },
      "execution_count": 5,
      "outputs": []
    },
    {
      "cell_type": "code",
      "source": [
        "# Copy file ke Train-Dev Directory (Train-Dev-Test nanti aja kalo dataset udah gede)\n",
        "\n",
        "SPLIT_SIZE = 0.8 # 80-20 Train-Dev Ratio\n",
        "\n",
        "def SplitDataTanaman(data_path, train_path, dev_path, split_size): # minus test_path parameter\n",
        "  plants_list = os.listdir(data_path)\n",
        "\n",
        "  for plant in plants_list:\n",
        "    source_plant_path = os.path.join(data_path, plant)\n",
        "    train_plant_path = os.path.join(train_path, plant)\n",
        "    dev_plant_path = os.path.join(dev_path, plant)\n",
        "    # test_plant_path = os.path.join(test_path, plant)\n",
        "\n",
        "    split_data(source_plant_path, train_plant_path, dev_plant_path, split_size)\n",
        "\n",
        "BikinSplitDirectory(DATASET_PATH, DATASET_SPLIT_PATH, TRAIN_PATH, DEV_PATH)\n",
        "SplitDataTanaman(DATASET_PATH, TRAIN_PATH, DEV_PATH, SPLIT_SIZE)"
      ],
      "metadata": {
        "id": "vB7u_i_3aLBT",
        "colab": {
          "base_uri": "https://localhost:8080/"
        },
        "outputId": "e841b5e0-5349-4163-dda4-9dc64b16e4e9"
      },
      "execution_count": 6,
      "outputs": [
        {
          "output_type": "stream",
          "name": "stdout",
          "text": [
            "Finished emptying old folders.\n",
            "Finished splitting data at: /content/drive/MyDrive/Product Based Capstone/Team ML/Dataset/Sambiloto\n",
            "Finished splitting data at: /content/drive/MyDrive/Product Based Capstone/Team ML/Dataset/Sembung\n",
            "Finished splitting data at: /content/drive/MyDrive/Product Based Capstone/Team ML/Dataset/Meniran\n",
            "Finished splitting data at: /content/drive/MyDrive/Product Based Capstone/Team ML/Dataset/Andong\n",
            "Finished splitting data at: /content/drive/MyDrive/Product Based Capstone/Team ML/Dataset/Kumis Kucing\n",
            "Finished splitting data at: /content/drive/MyDrive/Product Based Capstone/Team ML/Dataset/Kemangi\n",
            "Finished splitting data at: /content/drive/MyDrive/Product Based Capstone/Team ML/Dataset/Pandan\n",
            "Finished splitting data at: /content/drive/MyDrive/Product Based Capstone/Team ML/Dataset/Serai\n",
            "Finished splitting data at: /content/drive/MyDrive/Product Based Capstone/Team ML/Dataset/Kelor\n",
            "Finished splitting data at: /content/drive/MyDrive/Product Based Capstone/Team ML/Dataset/Sirih\n",
            "Finished splitting data at: /content/drive/MyDrive/Product Based Capstone/Team ML/Dataset/Talas\n",
            "Finished splitting data at: /content/drive/MyDrive/Product Based Capstone/Team ML/Dataset/Bayam Duri\n",
            "Finished splitting data at: /content/drive/MyDrive/Product Based Capstone/Team ML/Dataset/Singkong\n",
            "Finished splitting data at: /content/drive/MyDrive/Product Based Capstone/Team ML/Dataset/Pepaya\n",
            "Finished splitting data at: /content/drive/MyDrive/Product Based Capstone/Team ML/Dataset/Binahong\n",
            "Finished splitting data at: /content/drive/MyDrive/Product Based Capstone/Team ML/Dataset/Jeruk Nipis\n",
            "Finished splitting data at: /content/drive/MyDrive/Product Based Capstone/Team ML/Dataset/Mint\n",
            "Finished splitting data at: /content/drive/MyDrive/Product Based Capstone/Team ML/Dataset/Cincau Hijau\n"
          ]
        }
      ]
    },
    {
      "cell_type": "code",
      "source": [
        "# Test your create_train_test_dirs function\n",
        "\n",
        "def CekTotalGambar(folder_name, data_path):\n",
        "  sum = 0\n",
        "  for rootdir, dirs, files in os.walk(data_path):\n",
        "    for subdir in dirs:\n",
        "      path = os.path.join(rootdir, subdir)\n",
        "      sum += len(os.listdir(path))\n",
        "  print('Total Gambar {}: {}'.format(folder_name, sum))\n",
        "\n",
        "CekTotalGambar('Train', TRAIN_PATH)\n",
        "CekTotalGambar('Dev', DEV_PATH)"
      ],
      "metadata": {
        "colab": {
          "base_uri": "https://localhost:8080/"
        },
        "id": "7yN0a3J6bd3e",
        "outputId": "4f427d5e-c89c-4b49-d0b5-7379e4939c5b"
      },
      "execution_count": 7,
      "outputs": [
        {
          "output_type": "stream",
          "name": "stdout",
          "text": [
            "Total Gambar Train: 1683\n",
            "Total Gambar Dev: 418\n"
          ]
        }
      ]
    }
  ]
}