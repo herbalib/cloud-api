{
  "nbformat": 4,
  "nbformat_minor": 0,
  "metadata": {
    "colab": {
      "name": "Model Training Workbook.ipynb",
      "provenance": [],
      "collapsed_sections": []
    },
    "kernelspec": {
      "name": "python3",
      "display_name": "Python 3"
    },
    "language_info": {
      "name": "python"
    }
  },
  "cells": [
    {
      "cell_type": "markdown",
      "source": [
        "# 1. Data Preprocessing"
      ],
      "metadata": {
        "id": "DaYxKWIS79Oi"
      }
    },
    {
      "cell_type": "code",
      "source": [
        "from google.colab import drive\n",
        "drive.mount('/content/drive')"
      ],
      "metadata": {
        "colab": {
          "base_uri": "https://localhost:8080/"
        },
        "id": "V0YKX1dc9mvv",
        "outputId": "7b4a1dbc-ff98-48ca-f1d2-0c06fdd90609"
      },
      "execution_count": 1,
      "outputs": [
        {
          "output_type": "stream",
          "name": "stdout",
          "text": [
            "Drive already mounted at /content/drive; to attempt to forcibly remount, call drive.mount(\"/content/drive\", force_remount=True).\n"
          ]
        }
      ]
    },
    {
      "cell_type": "code",
      "execution_count": 2,
      "metadata": {
        "colab": {
          "base_uri": "https://localhost:8080/"
        },
        "id": "c6nXXbn86xje",
        "outputId": "f0b93e7c-68ff-40cc-e838-76669864aff6"
      },
      "outputs": [
        {
          "output_type": "stream",
          "name": "stdout",
          "text": [
            "Total jenis tanaman herbal: 18\n"
          ]
        }
      ],
      "source": [
        "# Cek banyak jenis tanaman\n",
        "import os\n",
        "\n",
        "DATASET_PATH = '/content/drive/MyDrive/Product Based Capstone/Team ML/Dataset'\n",
        "PLANTS_LIST = os.listdir(DATASET_PATH)\n",
        "NUM_OF_PLANTS = len(PLANTS_LIST)\n",
        "\n",
        "print('Total jenis tanaman herbal:', NUM_OF_PLANTS)"
      ]
    },
    {
      "cell_type": "code",
      "source": [
        "# List gambar per tanaman\n",
        "\n",
        "index = 1\n",
        "print('-= Banyak gambar per tanaman =-')\n",
        "for plant in PLANTS_LIST:\n",
        "  plant_path = os.path.join(DATASET_PATH, plant)\n",
        "  print('{:2}. {:15} : {}'.format(index, plant, len(os.listdir(plant_path))))\n",
        "  index += 1"
      ],
      "metadata": {
        "colab": {
          "base_uri": "https://localhost:8080/"
        },
        "id": "Y-pF6t2_DTPP",
        "outputId": "f874b3b3-4957-4ffd-acfd-24b6a6926325"
      },
      "execution_count": 3,
      "outputs": [
        {
          "output_type": "stream",
          "name": "stdout",
          "text": [
            "-= Banyak gambar per tanaman =-\n",
            " 1. Binahong        : 111\n",
            " 2. Andong          : 92\n",
            " 3. Meniran         : 100\n",
            " 4. Sembung         : 100\n",
            " 5. Sambiloto       : 115\n",
            " 6. Bayam Duri      : 97\n",
            " 7. Talas           : 28\n",
            " 8. Mint            : 197\n",
            " 9. Sirih           : 176\n",
            "10. Kemangi         : 100\n",
            "11. Pandan          : 139\n",
            "12. Serai           : 0\n",
            "13. Kelor           : 100\n",
            "14. Jeruk Nipis     : 75\n",
            "15. Pepaya          : 100\n",
            "16. Singkong        : 101\n",
            "17. Cincau Hijau    : 144\n",
            "18. Kumis Kucing    : 147\n"
          ]
        }
      ]
    },
    {
      "cell_type": "code",
      "source": [
        "# Data Splitting Function\n",
        "import random\n",
        "from shutil import copyfile\n",
        "\n",
        "def split_data(SOURCE, TRAINING, TESTING, SPLIT_SIZE):\n",
        "\n",
        "  dir_list = os.listdir(SOURCE)\n",
        "  randomized_dir_list = random.sample(dir_list, len(dir_list))\n",
        "\n",
        "  # Remove 0 size images\n",
        "  final_list = []\n",
        "  for filename in randomized_dir_list:\n",
        "    fullpath = os.path.join(SOURCE, filename)\n",
        "    if os.path.getsize(fullpath) != 0:\n",
        "      final_list.append(filename)\n",
        "    else:\n",
        "      print(\"{} is zero length, so ignoring.\".format(filename))\n",
        "\n",
        "  # Start Splitting\n",
        "  index_split = round(SPLIT_SIZE * len(final_list))\n",
        "  for filename in final_list[:index_split]:\n",
        "    source = os.path.join(SOURCE, filename)\n",
        "    dest = os.path.join(TRAINING, filename)\n",
        "    copyfile(source, dest)\n",
        "\n",
        "  for filename in final_list[index_split:]:\n",
        "    source = os.path.join(SOURCE, filename)\n",
        "    dest = os.path.join(TESTING, filename)\n",
        "    copyfile(source, dest)"
      ],
      "metadata": {
        "id": "X4WuN6xtWZKG"
      },
      "execution_count": 5,
      "outputs": []
    },
    {
      "cell_type": "code",
      "source": [
        "# Buat directory baru Train-Dev (Train-Dev-Test nanti aja kalo dataset udah gede)\n",
        "from shutil import rmtree\n",
        "\n",
        "SPLIT_DIR = '/content/drive/MyDrive/Product Based Capstone/Team ML/Dataset (Split)'\n",
        "if os.path.exists(SPLIT_DIR):\n",
        "  rmtree(SPLIT_DIR)\n",
        "\n",
        "TRAIN_SPLIT_DIR = os.path.join(SPLIT_DIR, 'train')\n",
        "DEV_SPLIT_DIR = os.path.join(SPLIT_DIR, 'dev')\n",
        "\n",
        "for plant in PLANTS_LIST:\n",
        "  train_plant_path = os.path.join(TRAIN_SPLIT_DIR, plant)\n",
        "  os.makedirs(train_plant_path)\n",
        "  \n",
        "  dev_plant_path = os.path.join(DEV_SPLIT_DIR, plant)\n",
        "  os.makedirs(dev_plant_path)"
      ],
      "metadata": {
        "id": "lKbpvnKDLuz7"
      },
      "execution_count": 9,
      "outputs": []
    },
    {
      "cell_type": "code",
      "source": [
        "# Copy file ke Train-Dev Directory (Train-Dev-Test nanti aja kalo dataset udah gede)\n",
        "\n",
        "SPLIT_RATIO = 0.7\n",
        "for plant in PLANTS_LIST:\n",
        "  source_plant_path = os.path.join(DATASET_PATH, plant)\n",
        "  train_plant_path = os.path.join(TRAIN_SPLIT_DIR, plant)\n",
        "  dev_plant_path = os.path.join(DEV_SPLIT_DIR, plant)\n",
        "\n",
        "  split_data(source_plant_path, train_plant_path, dev_plant_path, SPLIT_RATIO)"
      ],
      "metadata": {
        "id": "vB7u_i_3aLBT"
      },
      "execution_count": 10,
      "outputs": []
    },
    {
      "cell_type": "code",
      "source": [
        "# Test your create_train_test_dirs function\n",
        "\n",
        "for rootdir, dirs, files in os.walk(SPLIT_DIR):\n",
        "    for subdir in dirs:\n",
        "        print(os.path.join(rootdir, subdir))"
      ],
      "metadata": {
        "colab": {
          "base_uri": "https://localhost:8080/"
        },
        "id": "7yN0a3J6bd3e",
        "outputId": "e5b4280a-b241-4da7-b320-cb92cbe6163a"
      },
      "execution_count": 11,
      "outputs": [
        {
          "output_type": "stream",
          "name": "stdout",
          "text": [
            "/content/drive/MyDrive/Product Based Capstone/Team ML/Dataset (Split)/train\n",
            "/content/drive/MyDrive/Product Based Capstone/Team ML/Dataset (Split)/dev\n",
            "/content/drive/MyDrive/Product Based Capstone/Team ML/Dataset (Split)/train/Binahong\n",
            "/content/drive/MyDrive/Product Based Capstone/Team ML/Dataset (Split)/train/Andong\n",
            "/content/drive/MyDrive/Product Based Capstone/Team ML/Dataset (Split)/train/Meniran\n",
            "/content/drive/MyDrive/Product Based Capstone/Team ML/Dataset (Split)/train/Sembung\n",
            "/content/drive/MyDrive/Product Based Capstone/Team ML/Dataset (Split)/train/Sambiloto\n",
            "/content/drive/MyDrive/Product Based Capstone/Team ML/Dataset (Split)/train/Bayam Duri\n",
            "/content/drive/MyDrive/Product Based Capstone/Team ML/Dataset (Split)/train/Talas\n",
            "/content/drive/MyDrive/Product Based Capstone/Team ML/Dataset (Split)/train/Mint\n",
            "/content/drive/MyDrive/Product Based Capstone/Team ML/Dataset (Split)/train/Sirih\n",
            "/content/drive/MyDrive/Product Based Capstone/Team ML/Dataset (Split)/train/Kemangi\n",
            "/content/drive/MyDrive/Product Based Capstone/Team ML/Dataset (Split)/train/Pandan\n",
            "/content/drive/MyDrive/Product Based Capstone/Team ML/Dataset (Split)/train/Serai\n",
            "/content/drive/MyDrive/Product Based Capstone/Team ML/Dataset (Split)/train/Kelor\n",
            "/content/drive/MyDrive/Product Based Capstone/Team ML/Dataset (Split)/train/Jeruk Nipis\n",
            "/content/drive/MyDrive/Product Based Capstone/Team ML/Dataset (Split)/train/Pepaya\n",
            "/content/drive/MyDrive/Product Based Capstone/Team ML/Dataset (Split)/train/Singkong\n",
            "/content/drive/MyDrive/Product Based Capstone/Team ML/Dataset (Split)/train/Cincau Hijau\n",
            "/content/drive/MyDrive/Product Based Capstone/Team ML/Dataset (Split)/train/Kumis Kucing\n",
            "/content/drive/MyDrive/Product Based Capstone/Team ML/Dataset (Split)/dev/Binahong\n",
            "/content/drive/MyDrive/Product Based Capstone/Team ML/Dataset (Split)/dev/Andong\n",
            "/content/drive/MyDrive/Product Based Capstone/Team ML/Dataset (Split)/dev/Meniran\n",
            "/content/drive/MyDrive/Product Based Capstone/Team ML/Dataset (Split)/dev/Sembung\n",
            "/content/drive/MyDrive/Product Based Capstone/Team ML/Dataset (Split)/dev/Sambiloto\n",
            "/content/drive/MyDrive/Product Based Capstone/Team ML/Dataset (Split)/dev/Bayam Duri\n",
            "/content/drive/MyDrive/Product Based Capstone/Team ML/Dataset (Split)/dev/Talas\n",
            "/content/drive/MyDrive/Product Based Capstone/Team ML/Dataset (Split)/dev/Mint\n",
            "/content/drive/MyDrive/Product Based Capstone/Team ML/Dataset (Split)/dev/Sirih\n",
            "/content/drive/MyDrive/Product Based Capstone/Team ML/Dataset (Split)/dev/Kemangi\n",
            "/content/drive/MyDrive/Product Based Capstone/Team ML/Dataset (Split)/dev/Pandan\n",
            "/content/drive/MyDrive/Product Based Capstone/Team ML/Dataset (Split)/dev/Serai\n",
            "/content/drive/MyDrive/Product Based Capstone/Team ML/Dataset (Split)/dev/Kelor\n",
            "/content/drive/MyDrive/Product Based Capstone/Team ML/Dataset (Split)/dev/Jeruk Nipis\n",
            "/content/drive/MyDrive/Product Based Capstone/Team ML/Dataset (Split)/dev/Pepaya\n",
            "/content/drive/MyDrive/Product Based Capstone/Team ML/Dataset (Split)/dev/Singkong\n",
            "/content/drive/MyDrive/Product Based Capstone/Team ML/Dataset (Split)/dev/Cincau Hijau\n",
            "/content/drive/MyDrive/Product Based Capstone/Team ML/Dataset (Split)/dev/Kumis Kucing\n"
          ]
        }
      ]
    }
  ]
}